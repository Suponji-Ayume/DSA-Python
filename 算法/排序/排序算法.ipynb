{
 "cells": [
  {
   "cell_type": "markdown",
   "source": [
    "## 0. 辅助函数：交换数组两个元素"
   ],
   "metadata": {
    "collapsed": false
   },
   "id": "a9df377a8b91fd70"
  },
  {
   "cell_type": "code",
   "outputs": [],
   "source": [
    "def swap(arr, i, j):\n",
    "    arr[i], arr[j] = arr[j], arr[i]"
   ],
   "metadata": {
    "collapsed": false,
    "ExecuteTime": {
     "end_time": "2024-02-27T09:25:57.119117Z",
     "start_time": "2024-02-27T09:25:57.112645Z"
    }
   },
   "id": "bcd666ca83501764",
   "execution_count": 19
  },
  {
   "cell_type": "markdown",
   "source": [
    "## 1. 插入排序"
   ],
   "metadata": {
    "collapsed": false
   },
   "id": "bf17bf41d87cf586"
  },
  {
   "cell_type": "code",
   "execution_count": 20,
   "id": "initial_id",
   "metadata": {
    "collapsed": true,
    "ExecuteTime": {
     "end_time": "2024-02-27T09:26:22.567909Z",
     "start_time": "2024-02-27T09:26:22.555181Z"
    }
   },
   "outputs": [
    {
     "name": "stdout",
     "output_type": "stream",
     "text": [
      "[1, 2, 3, 4, 5, 6, 7, 8, 9, 10]\n"
     ]
    }
   ],
   "source": [
    "def insertion_sort(arr):\n",
    "    # 从第二个元素开始，将其插入到前面已经排好序的序列中\n",
    "    for i in range(1, len(arr)):\n",
    "        # 第 i 轮，将 arr[i] 插入到前面已经排好序的序列中，i = 1, 2, 3, ..., n-1\n",
    "        j = i\n",
    "        # 逐个往前冒泡，直到找到合适的位置\n",
    "        while j > 0 and arr[j] < arr[j - 1]:\n",
    "            swap(arr, j, j - 1)\n",
    "            j -= 1\n",
    "    return arr\n",
    "\n",
    "\n",
    "arr = [1, 4, 2, 10, 7, 5, 8, 9, 6, 3]\n",
    "sorted_arr = insertion_sort(arr)\n",
    "print(sorted_arr)"
   ]
  },
  {
   "cell_type": "markdown",
   "source": [
    "## 2. 冒泡排序"
   ],
   "metadata": {
    "collapsed": false
   },
   "id": "7cf8e26e1931dbab"
  },
  {
   "cell_type": "code",
   "outputs": [
    {
     "name": "stdout",
     "output_type": "stream",
     "text": [
      "[1, 2, 3, 4, 5, 6, 7, 8, 9, 10]\n"
     ]
    }
   ],
   "source": [
    "def bubble_sort(arr):\n",
    "    for i in range(len(arr)):\n",
    "        # 判断第 i 轮是否进行过交换操作，如果没有交换过，说明已经排好序了\n",
    "        swapped = False\n",
    "        for j in range(len(arr) - i - 1):\n",
    "            if arr[j] > arr[j + 1]:\n",
    "                swap(arr, j, j + 1)\n",
    "                swapped = True\n",
    "        if not swapped:\n",
    "            break\n",
    "    return arr\n",
    "\n",
    "\n",
    "arr = [1, 4, 2, 10, 7, 5, 8, 9, 6, 3]\n",
    "sorted_arr = bubble_sort(arr)\n",
    "print(sorted_arr)"
   ],
   "metadata": {
    "collapsed": false,
    "ExecuteTime": {
     "end_time": "2024-02-27T09:26:34.209366Z",
     "start_time": "2024-02-27T09:26:34.193469Z"
    }
   },
   "id": "230fecadc5d27f2a",
   "execution_count": 21
  },
  {
   "cell_type": "markdown",
   "source": [
    "## 3. 选择排序"
   ],
   "metadata": {
    "collapsed": false
   },
   "id": "95bda60be3beed4e"
  },
  {
   "cell_type": "code",
   "outputs": [
    {
     "name": "stdout",
     "output_type": "stream",
     "text": [
      "[1, 2, 3, 4, 5, 6, 7, 8, 9, 10]\n",
      "CPU times: user 1e+03 ns, sys: 0 ns, total: 1e+03 ns\n",
      "Wall time: 6.68 µs\n"
     ]
    }
   ],
   "source": [
    "def selection_sort(arr):\n",
    "    for i in range(len(arr)):\n",
    "        # 未排序序列中找到最小值的索引值\n",
    "        min_idx = i\n",
    "        for j in range(i + 1, len(arr)):\n",
    "            if arr[j] < arr[min_idx]:\n",
    "                min_idx = j\n",
    "        # 将找到的最小值和 arr[i] 互换位置\n",
    "        swap(arr, i, min_idx)\n",
    "\n",
    "    return arr\n",
    "\n",
    "\n",
    "arr = [1, 4, 2, 10, 7, 5, 8, 9, 6, 3]\n",
    "sorted_arr = bubble_sort(arr)\n",
    "print(sorted_arr)"
   ],
   "metadata": {
    "collapsed": false,
    "ExecuteTime": {
     "end_time": "2024-02-27T09:48:25.387193Z",
     "start_time": "2024-02-27T09:48:25.381348Z"
    }
   },
   "id": "13c6331ca0295d4e",
   "execution_count": 28
  },
  {
   "cell_type": "markdown",
   "source": [
    "## 4. 快速排序"
   ],
   "metadata": {
    "collapsed": false
   },
   "id": "5653237e045daa16"
  },
  {
   "cell_type": "code",
   "outputs": [
    {
     "name": "stdout",
     "output_type": "stream",
     "text": [
      "[1, 2, 3, 4, 5, 6, 7, 8, 9, 10]\n",
      "CPU times: user 3 µs, sys: 2 µs, total: 5 µs\n",
      "Wall time: 66 µs\n"
     ]
    }
   ],
   "source": [
    "def quick_sort(arr):\n",
    "    # 退出递归条件\n",
    "    if len(arr) <= 1:\n",
    "        return arr\n",
    "    pivot = arr[len(arr) // 2]\n",
    "    left = [x for x in arr if x < pivot]\n",
    "    middle = [x for x in arr if x == pivot]\n",
    "    right = [x for x in arr if x > pivot]\n",
    "    return quick_sort(left) + middle + quick_sort(right)\n",
    "\n",
    "arr = [1,4,2,10,7,5,8,9,6,3]\n",
    "sorted_arr = quick_sort(arr)\n",
    "print(sorted_arr)"
   ],
   "metadata": {
    "collapsed": false,
    "ExecuteTime": {
     "end_time": "2024-02-27T09:48:02.226633Z",
     "start_time": "2024-02-27T09:48:02.212823Z"
    }
   },
   "id": "9cc8403966e9eb0b",
   "execution_count": 24
  },
  {
   "cell_type": "markdown",
   "source": [
    "## 5. 归并排序"
   ],
   "metadata": {
    "collapsed": false
   },
   "id": "9b9ed01c47f4caf8"
  },
  {
   "cell_type": "code",
   "outputs": [],
   "source": [],
   "metadata": {
    "collapsed": false
   },
   "id": "135b210f5bcb9497"
  }
 ],
 "metadata": {
  "kernelspec": {
   "display_name": "Python 3",
   "language": "python",
   "name": "python3"
  },
  "language_info": {
   "codemirror_mode": {
    "name": "ipython",
    "version": 2
   },
   "file_extension": ".py",
   "mimetype": "text/x-python",
   "name": "python",
   "nbconvert_exporter": "python",
   "pygments_lexer": "ipython2",
   "version": "2.7.6"
  }
 },
 "nbformat": 4,
 "nbformat_minor": 5
}
