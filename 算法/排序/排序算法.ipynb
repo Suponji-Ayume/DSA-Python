{
 "cells": [
  {
   "cell_type": "markdown",
   "source": [
    "## 0. 辅助函数：交换数组两个元素"
   ],
   "metadata": {
    "collapsed": false
   },
   "id": "a9df377a8b91fd70"
  },
  {
   "cell_type": "code",
   "outputs": [],
   "source": [
    "def swap(arr, i, j):\n",
    "    arr[i], arr[j] = arr[j], arr[i]"
   ],
   "metadata": {
    "collapsed": false,
    "ExecuteTime": {
     "end_time": "2024-02-28T06:58:56.266075Z",
     "start_time": "2024-02-28T06:58:56.262766Z"
    }
   },
   "id": "bcd666ca83501764",
   "execution_count": 5
  },
  {
   "cell_type": "markdown",
   "source": [
    "## 1. 插入排序"
   ],
   "metadata": {
    "collapsed": false
   },
   "id": "bf17bf41d87cf586"
  },
  {
   "cell_type": "code",
   "execution_count": 20,
   "id": "initial_id",
   "metadata": {
    "collapsed": true,
    "ExecuteTime": {
     "end_time": "2024-02-27T09:26:22.567909Z",
     "start_time": "2024-02-27T09:26:22.555181Z"
    }
   },
   "outputs": [
    {
     "name": "stdout",
     "output_type": "stream",
     "text": [
      "[1, 2, 3, 4, 5, 6, 7, 8, 9, 10]\n"
     ]
    }
   ],
   "source": [
    "def insertion_sort(arr):\n",
    "    # 从第二个元素开始，将其插入到前面已经排好序的序列中\n",
    "    for i in range(1, len(arr)):\n",
    "        # 第 i 轮，将 arr[i] 插入到前面已经排好序的序列中，i = 1, 2, 3, ..., n-1\n",
    "        j = i\n",
    "        # 逐个往前冒泡，直到找到合适的位置\n",
    "        while j > 0 and arr[j] < arr[j - 1]:\n",
    "            swap(arr, j, j - 1)\n",
    "            j -= 1\n",
    "    return arr\n",
    "\n",
    "\n",
    "arr = [1, 4, 2, 10, 7, 5, 8, 9, 6, 3]\n",
    "sorted_arr = insertion_sort(arr)\n",
    "print(sorted_arr)"
   ]
  },
  {
   "cell_type": "markdown",
   "source": [
    "## 2. 冒泡排序"
   ],
   "metadata": {
    "collapsed": false
   },
   "id": "7cf8e26e1931dbab"
  },
  {
   "cell_type": "code",
   "outputs": [
    {
     "name": "stdout",
     "output_type": "stream",
     "text": [
      "[1, 2, 3, 4, 5, 6, 7, 8, 9, 10]\n"
     ]
    }
   ],
   "source": [
    "def bubble_sort(arr):\n",
    "    for i in range(len(arr)):\n",
    "        # 判断第 i 轮是否进行过交换操作，如果没有交换过，说明已经排好序了\n",
    "        swapped = False\n",
    "        for j in range(len(arr) - i - 1):\n",
    "            if arr[j] > arr[j + 1]:\n",
    "                swap(arr, j, j + 1)\n",
    "                swapped = True\n",
    "        if not swapped:\n",
    "            break\n",
    "    return arr\n",
    "\n",
    "\n",
    "arr = [1, 4, 2, 10, 7, 5, 8, 9, 6, 3]\n",
    "sorted_arr = bubble_sort(arr)\n",
    "print(sorted_arr)"
   ],
   "metadata": {
    "collapsed": false,
    "ExecuteTime": {
     "end_time": "2024-02-27T09:26:34.209366Z",
     "start_time": "2024-02-27T09:26:34.193469Z"
    }
   },
   "id": "230fecadc5d27f2a",
   "execution_count": 21
  },
  {
   "cell_type": "markdown",
   "source": [
    "## 3. 选择排序"
   ],
   "metadata": {
    "collapsed": false
   },
   "id": "95bda60be3beed4e"
  },
  {
   "cell_type": "code",
   "outputs": [
    {
     "name": "stdout",
     "output_type": "stream",
     "text": [
      "[1, 2, 3, 4, 5, 6, 7, 8, 9, 10]\n",
      "CPU times: user 1e+03 ns, sys: 0 ns, total: 1e+03 ns\n",
      "Wall time: 6.68 µs\n"
     ]
    }
   ],
   "source": [
    "def selection_sort(arr):\n",
    "    for i in range(len(arr)):\n",
    "        # 未排序序列中找到最小值的索引值\n",
    "        min_idx = i\n",
    "        for j in range(i + 1, len(arr)):\n",
    "            if arr[j] < arr[min_idx]:\n",
    "                min_idx = j\n",
    "        # 将找到的最小值和 arr[i] 互换位置\n",
    "        swap(arr, i, min_idx)\n",
    "\n",
    "    return arr\n",
    "\n",
    "\n",
    "arr = [1, 4, 2, 10, 7, 5, 8, 9, 6, 3]\n",
    "sorted_arr = bubble_sort(arr)\n",
    "print(sorted_arr)"
   ],
   "metadata": {
    "collapsed": false,
    "ExecuteTime": {
     "end_time": "2024-02-27T09:48:25.387193Z",
     "start_time": "2024-02-27T09:48:25.381348Z"
    }
   },
   "id": "13c6331ca0295d4e",
   "execution_count": 28
  },
  {
   "cell_type": "markdown",
   "source": [
    "## 4. 快速排序"
   ],
   "metadata": {
    "collapsed": false
   },
   "id": "5653237e045daa16"
  },
  {
   "cell_type": "code",
   "outputs": [
    {
     "name": "stdout",
     "output_type": "stream",
     "text": [
      "[1, 2, 3, 4, 5, 6, 7, 8, 9, 10]\n"
     ]
    }
   ],
   "source": [
    "# 指定一个 pivot\n",
    "# 将所有大于 pivot 的元素放在右边，小于 pivot 的元素放在左边\n",
    "# 然后对左右两部分递归调用 quick_sort\n",
    "# 递归退出的边界条件是待排序的数组长度 <= 1\n",
    "def quick_sort(arr):\n",
    "    if len(arr) <= 1:\n",
    "        return arr\n",
    "    pivot = arr[len(arr) // 2]\n",
    "    smaller = [x for x in arr if x < pivot]\n",
    "    equal = [x for x in arr if x == pivot]\n",
    "    greater = [x for x in arr if x > pivot]\n",
    "    return quick_sort(smaller) + equal + quick_sort(greater)\n",
    "\n",
    "\n",
    "arr = [4, 3, 6, 8, 9, 1, 10, 2, 7, 5]\n",
    "print(quick_sort(arr))"
   ],
   "metadata": {
    "collapsed": false,
    "ExecuteTime": {
     "end_time": "2024-02-28T07:08:04.323946Z",
     "start_time": "2024-02-28T07:08:04.318333Z"
    }
   },
   "id": "9cc8403966e9eb0b",
   "execution_count": 11
  },
  {
   "cell_type": "markdown",
   "source": [
    "## 5. 归并排序"
   ],
   "metadata": {
    "collapsed": false
   },
   "id": "9b9ed01c47f4caf8"
  },
  {
   "cell_type": "code",
   "outputs": [
    {
     "data": {
      "text/plain": "[1, 2, 3, 4, 5, 6, 7, 8, 9, 10]"
     },
     "execution_count": 14,
     "metadata": {},
     "output_type": "execute_result"
    }
   ],
   "source": [
    "# 先将数组分为大致相同的两部分，然后对两部分分别归并排序\n",
    "# 假设现在已经得到了排好序的两个数组，考虑如何合并\n",
    "# 只需要逐个比较首元素即可，这里采用双指针实现\n",
    "def merge_sort(arr):\n",
    "    # 退出递归的结束条件\n",
    "    if len(arr) <= 1:\n",
    "        return\n",
    "    \n",
    "    # 先划分成长度大致相同的两个数组\n",
    "    middle = len(arr) // 2\n",
    "    left_arr = arr[:middle]\n",
    "    right_arr = arr[middle:]\n",
    "\n",
    "    # 对这两个数组递归调用 merge_sort，得到两个已经排好序的数组\n",
    "    merge_sort(left_arr)\n",
    "    merge_sort(right_arr)\n",
    "\n",
    "    # 假设已经得到了排好序的 left_arr 和 right_arr\n",
    "    # 设置双指针\n",
    "    left_ptr = right_ptr = arr_ptr = 0\n",
    "    while left_ptr < len(left_arr) and right_ptr < len(right_arr):\n",
    "        if left_arr[left_ptr] <= right_arr[right_ptr]:\n",
    "            arr[arr_ptr] = left_arr[left_ptr]\n",
    "            left_ptr += 1\n",
    "        else:\n",
    "            arr[arr_ptr] = right_arr[right_ptr]\n",
    "            right_ptr += 1\n",
    "        arr_ptr += 1\n",
    "\n",
    "    # 检查是否还有剩余元素没有填充，有可能其中一个数组还没有用完\n",
    "    while left_ptr < len(left_arr):\n",
    "        arr[arr_ptr] = left_arr[left_ptr]\n",
    "        left_ptr += 1\n",
    "        arr_ptr += 1\n",
    "\n",
    "    while right_ptr < len(right_arr):\n",
    "        arr[arr_ptr] = right_arr[right_ptr]\n",
    "        right_ptr += 1\n",
    "        arr_ptr += 1\n",
    "    \n",
    "arr = arr = [4, 3, 6, 8, 9, 1, 10, 2, 7, 5]\n",
    "merge_sort(arr)\n",
    "arr"
   ],
   "metadata": {
    "collapsed": false,
    "ExecuteTime": {
     "end_time": "2024-02-28T07:32:46.841929Z",
     "start_time": "2024-02-28T07:32:46.830032Z"
    }
   },
   "id": "135b210f5bcb9497",
   "execution_count": 14
  },
  {
   "cell_type": "markdown",
   "source": [
    "## 6. 希尔排序"
   ],
   "metadata": {
    "collapsed": false
   },
   "id": "7577606d6199d7b8"
  },
  {
   "cell_type": "code",
   "outputs": [
    {
     "name": "stdout",
     "output_type": "stream",
     "text": [
      "Sorted array: [2, 3, 12, 34, 54]\n"
     ]
    }
   ],
   "source": [
    "def shell_sort(arr):\n",
    "    n = len(arr)\n",
    "    gap = n // 2  # 初始增量\n",
    "\n",
    "    # 逐步缩小增量直至为 1\n",
    "    while gap > 0:\n",
    "        # 对每个子数组进行插入排序\n",
    "        for i in range(gap, n):\n",
    "            temp = arr[i]\n",
    "            j = i\n",
    "            # 将距离为 gap 的元素插入到已排序序列的适当位置\n",
    "            while j >= gap and arr[j - gap] > temp:\n",
    "                arr[j] = arr[j - gap]\n",
    "                j -= gap\n",
    "            arr[j] = temp\n",
    "\n",
    "        # 缩小增量\n",
    "        gap //= 2\n",
    "\n",
    "# 测试示例\n",
    "arr = [12, 34, 54, 2, 3]\n",
    "shell_sort(arr)\n",
    "print(\"Sorted array:\", arr)"
   ],
   "metadata": {
    "collapsed": false,
    "ExecuteTime": {
     "end_time": "2024-02-28T07:56:57.823345Z",
     "start_time": "2024-02-28T07:56:57.808833Z"
    }
   },
   "id": "ca167c6cde800360",
   "execution_count": 16
  }
 ],
 "metadata": {
  "kernelspec": {
   "display_name": "Python 3",
   "language": "python",
   "name": "python3"
  },
  "language_info": {
   "codemirror_mode": {
    "name": "ipython",
    "version": 2
   },
   "file_extension": ".py",
   "mimetype": "text/x-python",
   "name": "python",
   "nbconvert_exporter": "python",
   "pygments_lexer": "ipython2",
   "version": "2.7.6"
  }
 },
 "nbformat": 4,
 "nbformat_minor": 5
}
